{
 "cells": [
  {
   "cell_type": "code",
   "execution_count": 5,
   "metadata": {},
   "outputs": [],
   "source": [
    "from keras.models import Sequential\n",
    "from keras.layers import Dense,Activation"
   ]
  },
  {
   "cell_type": "code",
   "execution_count": null,
   "metadata": {},
   "outputs": [],
   "source": []
  },
  {
   "cell_type": "code",
   "execution_count": 3,
   "metadata": {},
   "outputs": [
    {
     "name": "stdout",
     "output_type": "stream",
     "text": [
      "Epoch 1/30\n",
      "1000/1000 [==============================] - 0s 207us/step - loss: 0.7011 - acc: 0.4820\n",
      "Epoch 2/30\n",
      "1000/1000 [==============================] - 0s 61us/step - loss: 0.6921 - acc: 0.5200\n",
      "Epoch 3/30\n",
      "1000/1000 [==============================] - 0s 63us/step - loss: 0.6895 - acc: 0.5300\n",
      "Epoch 4/30\n",
      "1000/1000 [==============================] - 0s 70us/step - loss: 0.6866 - acc: 0.5390\n",
      "Epoch 5/30\n",
      "1000/1000 [==============================] - 0s 62us/step - loss: 0.6818 - acc: 0.5670\n",
      "Epoch 6/30\n",
      "1000/1000 [==============================] - 0s 43us/step - loss: 0.6782 - acc: 0.5800\n",
      "Epoch 7/30\n",
      "1000/1000 [==============================] - 0s 59us/step - loss: 0.6746 - acc: 0.5830\n",
      "Epoch 8/30\n",
      "1000/1000 [==============================] - 0s 66us/step - loss: 0.6715 - acc: 0.5890\n",
      "Epoch 9/30\n",
      "1000/1000 [==============================] - 0s 53us/step - loss: 0.6622 - acc: 0.5850\n",
      "Epoch 10/30\n",
      "1000/1000 [==============================] - 0s 62us/step - loss: 0.6576 - acc: 0.6320\n",
      "Epoch 11/30\n",
      "1000/1000 [==============================] - 0s 61us/step - loss: 0.6538 - acc: 0.6270\n",
      "Epoch 12/30\n",
      "1000/1000 [==============================] - 0s 67us/step - loss: 0.6469 - acc: 0.6390\n",
      "Epoch 13/30\n",
      "1000/1000 [==============================] - 0s 74us/step - loss: 0.6414 - acc: 0.6450\n",
      "Epoch 14/30\n",
      "1000/1000 [==============================] - 0s 72us/step - loss: 0.6336 - acc: 0.6620\n",
      "Epoch 15/30\n",
      "1000/1000 [==============================] - 0s 65us/step - loss: 0.6299 - acc: 0.6570\n",
      "Epoch 16/30\n",
      "1000/1000 [==============================] - 0s 65us/step - loss: 0.6216 - acc: 0.6760\n",
      "Epoch 17/30\n",
      "1000/1000 [==============================] - 0s 60us/step - loss: 0.6132 - acc: 0.6850\n",
      "Epoch 18/30\n",
      "1000/1000 [==============================] - 0s 48us/step - loss: 0.6066 - acc: 0.6940\n",
      "Epoch 19/30\n",
      "1000/1000 [==============================] - 0s 57us/step - loss: 0.5930 - acc: 0.7040\n",
      "Epoch 20/30\n",
      "1000/1000 [==============================] - 0s 63us/step - loss: 0.5895 - acc: 0.6980\n",
      "Epoch 21/30\n",
      "1000/1000 [==============================] - 0s 53us/step - loss: 0.5777 - acc: 0.6990\n",
      "Epoch 22/30\n",
      "1000/1000 [==============================] - 0s 69us/step - loss: 0.5671 - acc: 0.7250\n",
      "Epoch 23/30\n",
      "1000/1000 [==============================] - 0s 41us/step - loss: 0.5585 - acc: 0.7170\n",
      "Epoch 24/30\n",
      "1000/1000 [==============================] - 0s 46us/step - loss: 0.5478 - acc: 0.7430\n",
      "Epoch 25/30\n",
      "1000/1000 [==============================] - 0s 64us/step - loss: 0.5343 - acc: 0.7440\n",
      "Epoch 26/30\n",
      "1000/1000 [==============================] - 0s 65us/step - loss: 0.5188 - acc: 0.7570\n",
      "Epoch 27/30\n",
      "1000/1000 [==============================] - 0s 58us/step - loss: 0.5181 - acc: 0.7650\n",
      "Epoch 28/30\n",
      "1000/1000 [==============================] - 0s 61us/step - loss: 0.5032 - acc: 0.7690\n",
      "Epoch 29/30\n",
      "1000/1000 [==============================] - 0s 63us/step - loss: 0.4889 - acc: 0.7880\n",
      "Epoch 30/30\n",
      "1000/1000 [==============================] - 0s 66us/step - loss: 0.4792 - acc: 0.7930\n"
     ]
    },
    {
     "data": {
      "text/plain": [
       "<keras.callbacks.History at 0x7fd4e867f438>"
      ]
     },
     "execution_count": 3,
     "metadata": {},
     "output_type": "execute_result"
    }
   ],
   "source": [
    "\n",
    "model = Sequential()\n",
    "model.add(Dense(32, activation='relu', input_dim=100))\n",
    "model.add(Dense(64, activation='relu'))\n",
    "model.add(Dense(1, activation='sigmoid'))\n",
    "model.compile(optimizer='rmsprop',\n",
    "              loss='binary_crossentropy',\n",
    "              metrics=['accuracy'])\n",
    "\n",
    "# Generate dummy data\n",
    "import numpy as np\n",
    "data = np.random.random((1000, 100))\n",
    "labels = np.random.randint(2, size=(1000, 1))\n",
    "\n",
    "# Train the model, iterating on the data in batches of 32 samples\n",
    "model.fit(data, labels, epochs=30, batch_size=32)"
   ]
  },
  {
   "cell_type": "code",
   "execution_count": 15,
   "metadata": {},
   "outputs": [
    {
     "name": "stdout",
     "output_type": "stream",
     "text": [
      "Model: \"sequential_5\"\n",
      "_________________________________________________________________\n",
      "Layer (type)                 Output Shape              Param #   \n",
      "=================================================================\n",
      "dense_10 (Dense)             (None, 32)                3232      \n",
      "_________________________________________________________________\n",
      "dense_11 (Dense)             (None, 64)                2112      \n",
      "_________________________________________________________________\n",
      "dense_12 (Dense)             (None, 1)                 65        \n",
      "=================================================================\n",
      "Total params: 5,409\n",
      "Trainable params: 5,409\n",
      "Non-trainable params: 0\n",
      "_________________________________________________________________\n"
     ]
    }
   ],
   "source": [
    "model.summary()"
   ]
  },
  {
   "cell_type": "code",
   "execution_count": 7,
   "metadata": {},
   "outputs": [
    {
     "name": "stdout",
     "output_type": "stream",
     "text": [
      "Epoch 1/10\n",
      "1000/1000 [==============================] - 0s 231us/step - loss: 2.3566 - acc: 0.0980\n",
      "Epoch 2/10\n",
      "1000/1000 [==============================] - 0s 58us/step - loss: 2.3258 - acc: 0.1060\n",
      "Epoch 3/10\n",
      "1000/1000 [==============================] - 0s 49us/step - loss: 2.3120 - acc: 0.1250\n",
      "Epoch 4/10\n",
      "1000/1000 [==============================] - 0s 50us/step - loss: 2.3023 - acc: 0.1220\n",
      "Epoch 5/10\n",
      "1000/1000 [==============================] - 0s 56us/step - loss: 2.2923 - acc: 0.1360\n",
      "Epoch 6/10\n",
      "1000/1000 [==============================] - 0s 60us/step - loss: 2.2835 - acc: 0.1350\n",
      "Epoch 7/10\n",
      "1000/1000 [==============================] - 0s 63us/step - loss: 2.2712 - acc: 0.1380\n",
      "Epoch 8/10\n",
      "1000/1000 [==============================] - 0s 68us/step - loss: 2.2652 - acc: 0.1440\n",
      "Epoch 9/10\n",
      "1000/1000 [==============================] - 0s 69us/step - loss: 2.2524 - acc: 0.1620\n",
      "Epoch 10/10\n",
      "1000/1000 [==============================] - 0s 67us/step - loss: 2.2431 - acc: 0.1710\n"
     ]
    },
    {
     "data": {
      "text/plain": [
       "<keras.callbacks.History at 0x7fd4c0ccee48>"
      ]
     },
     "execution_count": 7,
     "metadata": {},
     "output_type": "execute_result"
    }
   ],
   "source": [
    "# For a single-input model with 10 classes (categorical classification):\n",
    "import keras\n",
    "model = Sequential()\n",
    "model.add(Dense(32, activation='relu', input_dim=100))\n",
    "model.add(Dense(10, activation='softmax'))\n",
    "model.compile(optimizer='rmsprop',\n",
    "              loss='categorical_crossentropy',\n",
    "              metrics=['accuracy'])\n",
    "\n",
    "# Generate dummy data\n",
    "import numpy as np\n",
    "data = np.random.random((1000, 100))\n",
    "labels = np.random.randint(10, size=(1000, 1))\n",
    "\n",
    "# Convert labels to categorical one-hot encoding\n",
    "one_hot_labels = keras.utils.to_categorical(labels, num_classes=10)\n",
    "\n",
    "# Train the model, iterating on the data in batches of 32 samples\n",
    "model.fit(data, one_hot_labels, epochs=10, batch_size=32)\n"
   ]
  },
  {
   "cell_type": "code",
   "execution_count": 8,
   "metadata": {},
   "outputs": [
    {
     "data": {
      "text/plain": [
       "array([[0., 0., 0., ..., 0., 0., 1.],\n",
       "       [0., 0., 1., ..., 0., 0., 0.],\n",
       "       [0., 0., 1., ..., 0., 0., 0.],\n",
       "       ...,\n",
       "       [0., 1., 0., ..., 0., 0., 0.],\n",
       "       [0., 0., 0., ..., 0., 1., 0.],\n",
       "       [0., 0., 0., ..., 1., 0., 0.]], dtype=float32)"
      ]
     },
     "execution_count": 8,
     "metadata": {},
     "output_type": "execute_result"
    }
   ],
   "source": [
    "one_hot_labels"
   ]
  },
  {
   "cell_type": "code",
   "execution_count": 25,
   "metadata": {},
   "outputs": [
    {
     "ename": "TypeError",
     "evalue": "can only concatenate str (not \"list\") to str",
     "output_type": "error",
     "traceback": [
      "\u001b[0;31m---------------------------------------------------------------------------\u001b[0m",
      "\u001b[0;31mTypeError\u001b[0m                                 Traceback (most recent call last)",
      "\u001b[0;32m<ipython-input-25-b7041858dfbf>\u001b[0m in \u001b[0;36m<module>\u001b[0;34m\u001b[0m\n\u001b[1;32m     33\u001b[0m \u001b[0mmodel\u001b[0m\u001b[0;34m.\u001b[0m\u001b[0mcompile\u001b[0m\u001b[0;34m(\u001b[0m\u001b[0mloss\u001b[0m\u001b[0;34m=\u001b[0m\u001b[0;34m'categorical_crossentropy'\u001b[0m\u001b[0;34m,\u001b[0m \u001b[0moptimizer\u001b[0m\u001b[0;34m=\u001b[0m\u001b[0msgd\u001b[0m\u001b[0;34m)\u001b[0m\u001b[0;34m\u001b[0m\u001b[0;34m\u001b[0m\u001b[0m\n\u001b[1;32m     34\u001b[0m \u001b[0;34m\u001b[0m\u001b[0m\n\u001b[0;32m---> 35\u001b[0;31m \u001b[0mmodel\u001b[0m\u001b[0;34m.\u001b[0m\u001b[0mfit\u001b[0m\u001b[0;34m(\u001b[0m\u001b[0mx_train\u001b[0m\u001b[0;34m,\u001b[0m \u001b[0my_train\u001b[0m\u001b[0;34m,\u001b[0m \u001b[0mbatch_size\u001b[0m\u001b[0;34m=\u001b[0m\u001b[0;36m32\u001b[0m\u001b[0;34m,\u001b[0m \u001b[0mepochs\u001b[0m\u001b[0;34m=\u001b[0m\u001b[0;36m5\u001b[0m\u001b[0;34m,\u001b[0m\u001b[0mcallbacks\u001b[0m\u001b[0;34m=\u001b[0m\u001b[0;34m\"BaseLogger\"\u001b[0m\u001b[0;34m)\u001b[0m\u001b[0;34m\u001b[0m\u001b[0;34m\u001b[0m\u001b[0m\n\u001b[0m\u001b[1;32m     36\u001b[0m \u001b[0mscore\u001b[0m \u001b[0;34m=\u001b[0m \u001b[0mmodel\u001b[0m\u001b[0;34m.\u001b[0m\u001b[0mevaluate\u001b[0m\u001b[0;34m(\u001b[0m\u001b[0mx_test\u001b[0m\u001b[0;34m,\u001b[0m \u001b[0my_test\u001b[0m\u001b[0;34m,\u001b[0m \u001b[0mbatch_size\u001b[0m\u001b[0;34m=\u001b[0m\u001b[0;36m32\u001b[0m\u001b[0;34m)\u001b[0m\u001b[0;34m\u001b[0m\u001b[0;34m\u001b[0m\u001b[0m\n",
      "\u001b[0;32m~/anaconda3/lib/python3.7/site-packages/keras/engine/training.py\u001b[0m in \u001b[0;36mfit\u001b[0;34m(self, x, y, batch_size, epochs, verbose, callbacks, validation_split, validation_data, shuffle, class_weight, sample_weight, initial_epoch, steps_per_epoch, validation_steps, validation_freq, max_queue_size, workers, use_multiprocessing, **kwargs)\u001b[0m\n\u001b[1;32m   1176\u001b[0m                                         \u001b[0msteps_per_epoch\u001b[0m\u001b[0;34m=\u001b[0m\u001b[0msteps_per_epoch\u001b[0m\u001b[0;34m,\u001b[0m\u001b[0;34m\u001b[0m\u001b[0;34m\u001b[0m\u001b[0m\n\u001b[1;32m   1177\u001b[0m                                         \u001b[0mvalidation_steps\u001b[0m\u001b[0;34m=\u001b[0m\u001b[0mvalidation_steps\u001b[0m\u001b[0;34m,\u001b[0m\u001b[0;34m\u001b[0m\u001b[0;34m\u001b[0m\u001b[0m\n\u001b[0;32m-> 1178\u001b[0;31m                                         validation_freq=validation_freq)\n\u001b[0m\u001b[1;32m   1179\u001b[0m \u001b[0;34m\u001b[0m\u001b[0m\n\u001b[1;32m   1180\u001b[0m     def evaluate(self,\n",
      "\u001b[0;32m~/anaconda3/lib/python3.7/site-packages/keras/engine/training_arrays.py\u001b[0m in \u001b[0;36mfit_loop\u001b[0;34m(model, fit_function, fit_inputs, out_labels, batch_size, epochs, verbose, callbacks, val_function, val_inputs, shuffle, callback_metrics, initial_epoch, steps_per_epoch, validation_steps, validation_freq)\u001b[0m\n\u001b[1;32m    115\u001b[0m                 \u001b[0mcount_mode\u001b[0m\u001b[0;34m,\u001b[0m\u001b[0;34m\u001b[0m\u001b[0;34m\u001b[0m\u001b[0m\n\u001b[1;32m    116\u001b[0m                 stateful_metrics=model.stateful_metric_names))\n\u001b[0;32m--> 117\u001b[0;31m     \u001b[0m_callbacks\u001b[0m \u001b[0;34m+=\u001b[0m \u001b[0;34m(\u001b[0m\u001b[0mcallbacks\u001b[0m \u001b[0;32mor\u001b[0m \u001b[0;34m[\u001b[0m\u001b[0;34m]\u001b[0m\u001b[0;34m)\u001b[0m \u001b[0;34m+\u001b[0m \u001b[0;34m[\u001b[0m\u001b[0mmodel\u001b[0m\u001b[0;34m.\u001b[0m\u001b[0mhistory\u001b[0m\u001b[0;34m]\u001b[0m\u001b[0;34m\u001b[0m\u001b[0;34m\u001b[0m\u001b[0m\n\u001b[0m\u001b[1;32m    118\u001b[0m     \u001b[0mcallbacks\u001b[0m \u001b[0;34m=\u001b[0m \u001b[0mcbks\u001b[0m\u001b[0;34m.\u001b[0m\u001b[0mCallbackList\u001b[0m\u001b[0;34m(\u001b[0m\u001b[0m_callbacks\u001b[0m\u001b[0;34m)\u001b[0m\u001b[0;34m\u001b[0m\u001b[0;34m\u001b[0m\u001b[0m\n\u001b[1;32m    119\u001b[0m     \u001b[0mout_labels\u001b[0m \u001b[0;34m=\u001b[0m \u001b[0mout_labels\u001b[0m \u001b[0;32mor\u001b[0m \u001b[0;34m[\u001b[0m\u001b[0;34m]\u001b[0m\u001b[0;34m\u001b[0m\u001b[0;34m\u001b[0m\u001b[0m\n",
      "\u001b[0;31mTypeError\u001b[0m: can only concatenate str (not \"list\") to str"
     ]
    }
   ],
   "source": [
    "import numpy as np\n",
    "import keras\n",
    "from keras.models import Sequential\n",
    "from keras.layers import Dense, Dropout, Flatten\n",
    "from keras.layers import Conv2D, MaxPooling2D\n",
    "from keras.optimizers import SGD\n",
    "\n",
    "# Generate dummy data\n",
    "x_train = np.random.random((100, 100, 100, 3))\n",
    "y_train = keras.utils.to_categorical(np.random.randint(10, size=(100, 1)), num_classes=10)\n",
    "x_test = np.random.random((20, 100, 100, 3))\n",
    "y_test = keras.utils.to_categorical(np.random.randint(10, size=(20, 1)), num_classes=10)\n",
    "\n",
    "model = Sequential()\n",
    "# input: 100x100 images with 3 channels -> (100, 100, 3) tensors.\n",
    "# this applies 32 convolution filters of size 3x3 each.\n",
    "model.add(Conv2D(32, (3, 3), activation='relu', input_shape=(100, 100, 3)))\n",
    "model.add(Conv2D(32, (3, 3), activation='relu'))\n",
    "model.add(MaxPooling2D(pool_size=(2, 2)))\n",
    "model.add(Dropout(0.25))\n",
    "\n",
    "model.add(Conv2D(64, (3, 3), activation='relu'))\n",
    "model.add(Conv2D(64, (3, 3), activation='relu'))\n",
    "model.add(MaxPooling2D(pool_size=(2, 2)))\n",
    "model.add(Dropout(0.25))\n",
    "\n",
    "model.add(Flatten())\n",
    "model.add(Dense(256, activation='relu'))\n",
    "model.add(Dropout(0.5))\n",
    "model.add(Dense(10, activation='softmax'))\n",
    "\n",
    "sgd = SGD(lr=0.01, decay=1e-6, momentum=0.9, nesterov=True)\n",
    "model.compile(loss='categorical_crossentropy', optimizer=sgd)\n",
    "\n",
    "model.fit(x_train, y_train, batch_size=32, epochs=5,callbacks=\"BaseLogger\")\n",
    "score = model.evaluate(x_test, y_test, batch_size=32)"
   ]
  },
  {
   "cell_type": "code",
   "execution_count": 10,
   "metadata": {},
   "outputs": [
    {
     "name": "stdout",
     "output_type": "stream",
     "text": [
      "Model: \"sequential_6\"\n",
      "_________________________________________________________________\n",
      "Layer (type)                 Output Shape              Param #   \n",
      "=================================================================\n",
      "conv2d_1 (Conv2D)            (None, 98, 98, 32)        896       \n",
      "_________________________________________________________________\n",
      "conv2d_2 (Conv2D)            (None, 96, 96, 32)        9248      \n",
      "_________________________________________________________________\n",
      "max_pooling2d_1 (MaxPooling2 (None, 48, 48, 32)        0         \n",
      "_________________________________________________________________\n",
      "dropout_1 (Dropout)          (None, 48, 48, 32)        0         \n",
      "_________________________________________________________________\n",
      "conv2d_3 (Conv2D)            (None, 46, 46, 64)        18496     \n",
      "_________________________________________________________________\n",
      "conv2d_4 (Conv2D)            (None, 44, 44, 64)        36928     \n",
      "_________________________________________________________________\n",
      "max_pooling2d_2 (MaxPooling2 (None, 22, 22, 64)        0         \n",
      "_________________________________________________________________\n",
      "dropout_2 (Dropout)          (None, 22, 22, 64)        0         \n",
      "_________________________________________________________________\n",
      "flatten_1 (Flatten)          (None, 30976)             0         \n",
      "_________________________________________________________________\n",
      "dense_13 (Dense)             (None, 256)               7930112   \n",
      "_________________________________________________________________\n",
      "dropout_3 (Dropout)          (None, 256)               0         \n",
      "_________________________________________________________________\n",
      "dense_14 (Dense)             (None, 10)                2570      \n",
      "=================================================================\n",
      "Total params: 7,998,250\n",
      "Trainable params: 7,998,250\n",
      "Non-trainable params: 0\n",
      "_________________________________________________________________\n"
     ]
    }
   ],
   "source": [
    "model.summary()"
   ]
  },
  {
   "cell_type": "code",
   "execution_count": 13,
   "metadata": {},
   "outputs": [
    {
     "data": {
      "text/plain": [
       "array([[[ 0,  1,  2],\n",
       "        [ 3,  4,  5],\n",
       "        [ 6,  7,  8]],\n",
       "\n",
       "       [[ 9, 10, 11],\n",
       "        [12, 13, 14],\n",
       "        [15, 16, 17]],\n",
       "\n",
       "       [[18, 19, 20],\n",
       "        [21, 22, 23],\n",
       "        [24, 25, 26]]])"
      ]
     },
     "execution_count": 13,
     "metadata": {},
     "output_type": "execute_result"
    }
   ],
   "source": [
    "array = np.arange(27).reshape(3,3,3)"
   ]
  },
  {
   "cell_type": "code",
   "execution_count": 14,
   "metadata": {},
   "outputs": [
    {
     "data": {
      "text/plain": [
       "(3, 3, 3)"
      ]
     },
     "execution_count": 14,
     "metadata": {},
     "output_type": "execute_result"
    }
   ],
   "source": [
    "array.shape"
   ]
  },
  {
   "cell_type": "code",
   "execution_count": 36,
   "metadata": {},
   "outputs": [
    {
     "name": "stdout",
     "output_type": "stream",
     "text": [
      "Epoch 1/20\n",
      "1000/1000 [==============================] - 1s 848us/step - loss: 2.4035 - acc: 0.1110\n",
      "Epoch 2/20\n",
      "1000/1000 [==============================] - 0s 27us/step - loss: 2.3499 - acc: 0.1190\n",
      "Epoch 3/20\n",
      "1000/1000 [==============================] - 0s 24us/step - loss: 2.3381 - acc: 0.1060\n",
      "Epoch 4/20\n",
      "1000/1000 [==============================] - 0s 22us/step - loss: 2.3241 - acc: 0.1050\n",
      "Epoch 5/20\n",
      "1000/1000 [==============================] - 0s 22us/step - loss: 2.3221 - acc: 0.1120\n",
      "Epoch 6/20\n",
      "1000/1000 [==============================] - 0s 18us/step - loss: 2.3203 - acc: 0.1010\n",
      "Epoch 7/20\n",
      "1000/1000 [==============================] - 0s 18us/step - loss: 2.3140 - acc: 0.0960\n",
      "Epoch 8/20\n",
      "1000/1000 [==============================] - 0s 23us/step - loss: 2.3035 - acc: 0.1150\n",
      "Epoch 9/20\n",
      "1000/1000 [==============================] - 0s 34us/step - loss: 2.2991 - acc: 0.1140\n",
      "Epoch 10/20\n",
      "1000/1000 [==============================] - 0s 16us/step - loss: 2.3092 - acc: 0.1130\n",
      "Epoch 11/20\n",
      "1000/1000 [==============================] - 0s 14us/step - loss: 2.3025 - acc: 0.1120\n",
      "Epoch 12/20\n",
      "1000/1000 [==============================] - 0s 15us/step - loss: 2.3049 - acc: 0.1080\n",
      "Epoch 13/20\n",
      "1000/1000 [==============================] - 0s 14us/step - loss: 2.3016 - acc: 0.1300\n",
      "Epoch 14/20\n",
      "1000/1000 [==============================] - 0s 14us/step - loss: 2.3011 - acc: 0.1160\n",
      "Epoch 15/20\n",
      "1000/1000 [==============================] - 0s 18us/step - loss: 2.2974 - acc: 0.1190\n",
      "Epoch 16/20\n",
      "1000/1000 [==============================] - 0s 19us/step - loss: 2.2943 - acc: 0.1170\n",
      "Epoch 17/20\n",
      "1000/1000 [==============================] - 0s 16us/step - loss: 2.2920 - acc: 0.1250\n",
      "Epoch 18/20\n",
      "1000/1000 [==============================] - 0s 20us/step - loss: 2.2944 - acc: 0.1240\n",
      "Epoch 19/20\n",
      "1000/1000 [==============================] - 0s 23us/step - loss: 2.2995 - acc: 0.1140\n",
      "Epoch 20/20\n",
      "1000/1000 [==============================] - 0s 28us/step - loss: 2.2916 - acc: 0.1230\n",
      "100/100 [==============================] - 0s 3ms/step\n"
     ]
    }
   ],
   "source": [
    "import keras\n",
    "from keras.models import Sequential\n",
    "from keras.layers import Dense, Dropout, Activation\n",
    "from keras.optimizers import SGD\n",
    "\n",
    "# Generate dummy data\n",
    "import numpy as np\n",
    "x_train = np.random.random((1000, 20))\n",
    "y_train = keras.utils.to_categorical(np.random.randint(10, size=(1000, 1)), num_classes=10)\n",
    "x_test = np.random.random((100, 20))\n",
    "y_test = keras.utils.to_categorical(np.random.randint(10, size=(100, 1)), num_classes=10)\n",
    "\n",
    "model = Sequential()\n",
    "# Dense(64) is a fully-connected layer with 64 hidden units.\n",
    "# in the first layer, you must specify the expected input data shape:\n",
    "# here, 20-dimensional vectors.\n",
    "model.add(Dense(64, activation='relu', input_dim=20))\n",
    "model.add(Dropout(0.5))\n",
    "model.add(Dense(64, activation='relu'))\n",
    "model.add(Dropout(0.5))\n",
    "model.add(Dense(10, activation='softmax'))\n",
    "\n",
    "sgd = SGD(lr=0.01, decay=1e-6, momentum=0.9, nesterov=True)\n",
    "model.compile(loss='categorical_crossentropy',\n",
    "              optimizer=sgd,\n",
    "              metrics=['accuracy'])\n",
    "\n",
    "model.fit(x_train, y_train,\n",
    "          epochs=20,\n",
    "          batch_size=128)\n",
    "score = model.evaluate(x_test, y_test, batch_size=128)"
   ]
  },
  {
   "cell_type": "code",
   "execution_count": 30,
   "metadata": {},
   "outputs": [
    {
     "data": {
      "text/plain": [
       "array([0.27729947, 0.69973661, 0.6802854 , 0.67370049, 0.11646532,\n",
       "       0.58094216, 0.98494799, 0.34913115, 0.45852446, 0.02335572,\n",
       "       0.34841597, 0.54308528, 0.57113334, 0.89053179, 0.57706262,\n",
       "       0.41331197, 0.77612101, 0.80717243, 0.74495326, 0.12075225])"
      ]
     },
     "execution_count": 30,
     "metadata": {},
     "output_type": "execute_result"
    }
   ],
   "source": [
    "x_train[0]"
   ]
  },
  {
   "cell_type": "code",
   "execution_count": 33,
   "metadata": {},
   "outputs": [],
   "source": [
    "y_train = np.random.randint(10, size=(1000, 1))"
   ]
  },
  {
   "cell_type": "code",
   "execution_count": 38,
   "metadata": {},
   "outputs": [],
   "source": [
    "from keras.models import Sequential\n",
    "from keras.layers import Dense, Dropout\n",
    "from keras.layers import Embedding\n",
    "from keras.layers import LSTM\n",
    "\n",
    "max_features = 1024\n",
    "\n",
    "model = Sequential()\n",
    "model.add(Embedding(max_features, output_dim=256))\n",
    "model.add(LSTM(128))\n",
    "model.add(Dropout(0.5))\n",
    "model.add(Dense(1, activation='sigmoid'))\n",
    "\n",
    "model.compile(loss='binary_crossentropy',\n",
    "              optimizer='rmsprop',\n",
    "              metrics=['accuracy'])\n",
    "\n",
    "# model.fit(x_train, y_train, batch_size=16, epochs=10)\n",
    "# score = model.evaluate(x_test, y_test, batch_size=16)"
   ]
  },
  {
   "cell_type": "code",
   "execution_count": 39,
   "metadata": {},
   "outputs": [
    {
     "name": "stdout",
     "output_type": "stream",
     "text": [
      "Model: \"sequential_22\"\n",
      "_________________________________________________________________\n",
      "Layer (type)                 Output Shape              Param #   \n",
      "=================================================================\n",
      "embedding_2 (Embedding)      (None, None, 256)         262144    \n",
      "_________________________________________________________________\n",
      "lstm_2 (LSTM)                (None, 128)               197120    \n",
      "_________________________________________________________________\n",
      "dropout_43 (Dropout)         (None, 128)               0         \n",
      "_________________________________________________________________\n",
      "dense_48 (Dense)             (None, 1)                 129       \n",
      "=================================================================\n",
      "Total params: 459,393\n",
      "Trainable params: 459,393\n",
      "Non-trainable params: 0\n",
      "_________________________________________________________________\n"
     ]
    }
   ],
   "source": [
    "model.summary()"
   ]
  },
  {
   "cell_type": "code",
   "execution_count": null,
   "metadata": {},
   "outputs": [],
   "source": []
  }
 ],
 "metadata": {
  "kernelspec": {
   "display_name": "Python 3",
   "language": "python",
   "name": "python3"
  },
  "language_info": {
   "codemirror_mode": {
    "name": "ipython",
    "version": 3
   },
   "file_extension": ".py",
   "mimetype": "text/x-python",
   "name": "python",
   "nbconvert_exporter": "python",
   "pygments_lexer": "ipython3",
   "version": "3.7.3"
  }
 },
 "nbformat": 4,
 "nbformat_minor": 4
}
