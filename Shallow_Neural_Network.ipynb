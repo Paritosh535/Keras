{
 "cells": [
  {
   "cell_type": "code",
   "execution_count": 9,
   "metadata": {},
   "outputs": [],
   "source": [
    "import numpy as np\n",
    "import pandas as pd\n",
    "import matplotlib.pyplot as plt\n",
    "from sklearn.datasets import make_classification"
   ]
  },
  {
   "cell_type": "code",
   "execution_count": 10,
   "metadata": {},
   "outputs": [],
   "source": [
    "# Generating related input and output data\n",
    "\n",
    "np.random.seed(0)\n",
    "\n",
    "x, y = make_classification(n_samples=1000, n_features=2, n_informative=2, n_redundant=0,\n",
    "                           n_repeated=0, n_classes=2, n_clusters_per_class=1)"
   ]
  },
  {
   "cell_type": "code",
   "execution_count": 11,
   "metadata": {},
   "outputs": [
    {
     "name": "stdout",
     "output_type": "stream",
     "text": [
      "1000 2 3 1\n"
     ]
    }
   ],
   "source": [
    "# Define all dimensions\n",
    "\n",
    "m = x.shape[0]  # (#training examples)\n",
    "n = x.shape[1]  # (#features)\n",
    "N = 3           # (#Neuron units in second layer)\n",
    "N_ = 1          # (#Neuron unit in last layer)\n",
    "L = 2           # (#Number of layers including output layer)\n",
    "print(m, n, N, N_)"
   ]
  },
  {
   "cell_type": "code",
   "execution_count": 12,
   "metadata": {},
   "outputs": [
    {
     "name": "stdout",
     "output_type": "stream",
     "text": [
      "(2, 1000) (1, 1000)\n"
     ]
    }
   ],
   "source": [
    "# Reshaping the input and output train data\n",
    "\n",
    "x = x.reshape(n, m)\n",
    "y = y.reshape(N_, m)\n",
    "print(x.shape, y.shape)"
   ]
  },
  {
   "cell_type": "code",
   "execution_count": 13,
   "metadata": {},
   "outputs": [],
   "source": [
    "# Dictionaries containing information for each layer\n",
    "\n",
    "A = {}           # Containing activation units\n",
    "W = {}           # Containing weights\n",
    "Z = {}           # Containing z units\n",
    "B = {}           # Containing bias\n",
    "dZ = {}          # Containing dE / dz\n",
    "dW = {}          # Containing dE / dw\n",
    "dB = {}          # Containing dE / db\n",
    "\n",
    "# First layer neuron units\n",
    "A[1] = x\n",
    "\n",
    "\n",
    "# First layer weights\n",
    "W[1] = random_initialization(N,n)\n",
    "\n",
    "# Second layer weights\n",
    "W[2] = random_initialization(N_,N)\n",
    "\n",
    "# First layer bias\n",
    "B[1] = np.zeros((3, 1))\n",
    "\n",
    "# Second layer bias\n",
    "B[2] = np.zeros((1, 1))"
   ]
  },
  {
   "cell_type": "code",
   "execution_count": 14,
   "metadata": {},
   "outputs": [
    {
     "data": {
      "text/plain": [
       "[<matplotlib.lines.Line2D at 0x7f33e49fb8d0>]"
      ]
     },
     "execution_count": 14,
     "metadata": {},
     "output_type": "execute_result"
    },
    {
     "data": {
      "image/png": "[encoded data removed]",
      "text/plain": [
       "<Figure size 432x288 with 1 Axes>"
      ]
     },
     "metadata": {
      "needs_background": "light"
     },
     "output_type": "display_data"
    }
   ],
   "source": [
    "epoch = 50\n",
    "\n",
    "alpha = 2\n",
    "\n",
    "plotcost_func = np.zeros((1, epoch))\n",
    "\n",
    "for i in range(epoch):\n",
    "    \n",
    "    # Doing forward propagation\n",
    "    forward_prop()\n",
    "    \n",
    "    \n",
    "    y_hat = calculate_activation_unit(calculate_z(A.get(2), W.get(2), B.get(2)))\n",
    "    \n",
    "    \n",
    "    np.where\n",
    "\n",
    "    # Cost(loss) of shape(1, # samples)\n",
    "    cost = ((-1) * y * (np.log(y_hat))) - ((1 - y) * (np.log(1 - y_hat)))\n",
    "\n",
    "    # Cost Function (a scalar value)\n",
    "    cost_func = (np.sum(cost)) / m\n",
    "\n",
    "    plotcost_func[0, i] = cost_func\n",
    "    \n",
    "    # Doing backward propagation\n",
    "    backward_prop()\n",
    "    \n",
    "    \n",
    "    # Updating Weights and Bias\n",
    "    \n",
    "    W[1] = W[1] - alpha * dW[2]\n",
    "    W[2] = W[2] - alpha * dW[3]\n",
    "    \n",
    "    B[1] = B[1] - alpha * dB[2]\n",
    "    B[2] = B[2] - alpha * dB[3]\n",
    "    \n",
    "    \n",
    "plt.plot([i for i in range(epoch)], plotcost_func[0,:])"
   ]
  },
  {
   "cell_type": "code",
   "execution_count": 15,
   "metadata": {},
   "outputs": [],
   "source": [
    "# Random Initialization for weights (between -1 and 1)\n",
    "def random_initialization(d1, d2):\n",
    "    \n",
    "    for i in range(d1*d2):\n",
    "        \n",
    "        # Random number between -1 and 1\n",
    "        arr = np.random.uniform(-1,1, size=(d1, d2))\n",
    "        \n",
    "    return arr\n",
    "\n",
    "\n",
    "\n",
    "# Calculating z \n",
    "def calculate_z(a, w, b):\n",
    "    \n",
    "    z = np.dot(w, a) + b\n",
    "    \n",
    "    return z\n",
    "\n",
    "\n",
    "\n",
    "# Calculating activation unit\n",
    "def calculate_activation_unit(z):\n",
    "    \n",
    "    a = 1 / (1 + np.exp(-z))\n",
    "    \n",
    "    return a\n",
    "\n",
    "\n",
    "\n",
    "# Derived activation \n",
    "def derived_activation(a):\n",
    "    \n",
    "    return(a * (1 - a))\n",
    "\n",
    "\n",
    "\n",
    "# Forward Propagation \n",
    "def forward_prop():\n",
    "    \n",
    "    for i in range(2, L+2):\n",
    "        \n",
    "        # (#Neuron units in 2nd layer, #Number of features) for 2nd layer\n",
    "        # (#Neuron units in last layer, #Number of features) for last layer\n",
    "        Z[i] = calculate_z(A.get(i-1), W.get(i-1), B.get(i-1))\n",
    "        \n",
    "        # (#Neuron units in 2nd layer, #Number of features) for 2nd layer\n",
    "        # (#Neuron units in last layer, #Number of features) for last layer\n",
    "        A[i] = calculate_activation_unit(Z.get(i))\n",
    "\n",
    "\n",
    "\n",
    "\n",
    "# Backward Propagation\n",
    "def backward_prop():\n",
    "    \n",
    "    # dE/dz for last layer\n",
    "    dZ[L+1] = A.get(L+1) - y  #(#Neuron units in last layer, #Number of features)\n",
    "    \n",
    "    \n",
    "    # dE/dw for last layer\n",
    "    dW[L+1] = (np.dot(dZ[L+1], A.get(L).T))/ m  #(#Neuron units in last layer, #Neuron units in 2nd layer)\n",
    "               \n",
    "    \n",
    "    # dE/db for last layer\n",
    "    dB[L+1] = (np.sum(dZ[L+1], axis=1)) / m  #(1, 1)\n",
    "    \n",
    "    i = L #Number of layers\n",
    "    \n",
    "    while i>1:\n",
    "        \n",
    "        # dE/dz for layers before last\n",
    "        dZ[i] = (np.dot(W.get(i).T, dZ.get(i+1))) * (derived_activation(A.get(i)))\n",
    "               \n",
    "        \n",
    "        # dE/dw for layers before last\n",
    "        dW[i] = (np.dot(dZ.get(i), A.get(i-1).T)) / m\n",
    "               \n",
    "               \n",
    "        # dE/db\n",
    "        dB[i] = (np.sum(dZ.get(i), axis=1, keepdims=True)) / m\n",
    "         \n",
    "        i = i - 1"
   ]
  },
  {
   "cell_type": "code",
   "execution_count": null,
   "metadata": {},
   "outputs": [],
   "source": []
  }
 ],
 "metadata": {
  "kernelspec": {
   "display_name": "Python 3",
   "language": "python",
   "name": "python3"
  },
  "language_info": {
   "codemirror_mode": {
    "name": "ipython",
    "version": 3
   },
   "file_extension": ".py",
   "mimetype": "text/x-python",
   "name": "python",
   "nbconvert_exporter": "python",
   "pygments_lexer": "ipython3",
   "version": "3.7.3"
  }
 },
 "nbformat": 4,
 "nbformat_minor": 4
}
