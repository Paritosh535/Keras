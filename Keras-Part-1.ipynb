{
 "cells": [
  {
   "cell_type": "code",
   "execution_count": 2,
   "metadata": {},
   "outputs": [],
   "source": [
    "from keras.models import Sequential\n",
    "from keras.layers import Dense,Activation\n",
    "import keras"
   ]
  },
  {
   "cell_type": "code",
   "execution_count": 3,
   "metadata": {},
   "outputs": [],
   "source": [
    "from sklearn.datasets import load_iris"
   ]
  },
  {
   "cell_type": "code",
   "execution_count": 4,
   "metadata": {},
   "outputs": [],
   "source": [
    "data=load_iris()"
   ]
  },
  {
   "cell_type": "code",
   "execution_count": 10,
   "metadata": {},
   "outputs": [],
   "source": [
    "X=data[\"data\"]\n",
    "y=data[\"target\"].reshape(150,1)\n",
    "y = keras.utils.to_categorical(y, num_classes=3)"
   ]
  },
  {
   "cell_type": "code",
   "execution_count": 7,
   "metadata": {},
   "outputs": [
    {
     "name": "stdout",
     "output_type": "stream",
     "text": [
      "(1797, 64)\n",
      "0\n"
     ]
    },
    {
     "data": {
      "text/plain": [
       "<Figure size 432x288 with 0 Axes>"
      ]
     },
     "metadata": {},
     "output_type": "display_data"
    },
    {
     "data": {
      "image/png": "[encoded data removed]",
      "text/plain": [
       "<Figure size 288x288 with 1 Axes>"
      ]
     },
     "metadata": {
      "needs_background": "light"
     },
     "output_type": "display_data"
    }
   ],
   "source": [
    "from sklearn.datasets import load_digits\n",
    "digits = load_digits()\n",
    "print(digits.data.shape)\n",
    "\n",
    "n=565\n",
    "import matplotlib.pyplot as plt \n",
    "plt.gray() \n",
    "print(digits.target[n])\n",
    "plt.matshow(digits.images[n]) \n",
    "plt.show() "
   ]
  },
  {
   "cell_type": "code",
   "execution_count": 8,
   "metadata": {},
   "outputs": [
    {
     "data": {
      "text/plain": [
       "(1797, 8, 8)"
      ]
     },
     "execution_count": 8,
     "metadata": {},
     "output_type": "execute_result"
    }
   ],
   "source": [
    "digits.images.shape\n",
    "# digits.images[0]"
   ]
  },
  {
   "cell_type": "code",
   "execution_count": 327,
   "metadata": {},
   "outputs": [],
   "source": [
    "# X = np.array([[1., 0.], [2., 1.], [0., 0.]])\n",
    "# y = np.array([0, 1, 2])\n",
    "\n",
    "randomize = np.arange(len(X))\n",
    "np.random.shuffle(randomize)\n",
    "X = X[randomize]\n",
    "y = y[randomize]\n",
    "# from sklearn.utils import shuffle\n",
    "# X, y = shuffle(X, y, random_state=0)"
   ]
  },
  {
   "cell_type": "code",
   "execution_count": 151,
   "metadata": {},
   "outputs": [],
   "source": [
    "import numpy as np\n",
    "X = np.random.random((80,8))\n",
    "y = np.random.randint(2,size=(80,1)) #size=(row,col)"
   ]
  },
  {
   "cell_type": "code",
   "execution_count": 310,
   "metadata": {},
   "outputs": [
    {
     "data": {
      "text/plain": [
       "((150, 4), (150, 3))"
      ]
     },
     "execution_count": 310,
     "metadata": {},
     "output_type": "execute_result"
    }
   ],
   "source": [
    "X.shape,one_hot_labels.shape"
   ]
  },
  {
   "cell_type": "code",
   "execution_count": 311,
   "metadata": {},
   "outputs": [
    {
     "data": {
      "text/plain": [
       "(150, 150)"
      ]
     },
     "execution_count": 311,
     "metadata": {},
     "output_type": "execute_result"
    }
   ],
   "source": [
    "# Need to be same\n",
    "len(X),len(y)"
   ]
  },
  {
   "cell_type": "code",
   "execution_count": 25,
   "metadata": {},
   "outputs": [
    {
     "name": "stdout",
     "output_type": "stream",
     "text": [
      "WARNING:tensorflow:From /home/trantorchd.com/paritosh.yadav/anaconda3/lib/python3.7/site-packages/keras/backend/tensorflow_backend.py:66: The name tf.get_default_graph is deprecated. Please use tf.compat.v1.get_default_graph instead.\n",
      "\n",
      "WARNING:tensorflow:From /home/trantorchd.com/paritosh.yadav/anaconda3/lib/python3.7/site-packages/keras/backend/tensorflow_backend.py:541: The name tf.placeholder is deprecated. Please use tf.compat.v1.placeholder instead.\n",
      "\n",
      "WARNING:tensorflow:From /home/trantorchd.com/paritosh.yadav/anaconda3/lib/python3.7/site-packages/keras/backend/tensorflow_backend.py:4432: The name tf.random_uniform is deprecated. Please use tf.random.uniform instead.\n",
      "\n",
      "WARNING:tensorflow:From /home/trantorchd.com/paritosh.yadav/anaconda3/lib/python3.7/site-packages/keras/optimizers.py:793: The name tf.train.Optimizer is deprecated. Please use tf.compat.v1.train.Optimizer instead.\n",
      "\n",
      "WARNING:tensorflow:From /home/trantorchd.com/paritosh.yadav/anaconda3/lib/python3.7/site-packages/keras/backend/tensorflow_backend.py:1702: The name tf.log is deprecated. Please use tf.math.log instead.\n",
      "\n",
      "Model: \"sequential_1\"\n",
      "_________________________________________________________________\n",
      "Layer (type)                 Output Shape              Param #   \n",
      "=================================================================\n",
      "dense_1 (Dense)              (None, 8, 8)              72        \n",
      "_________________________________________________________________\n",
      "dense_2 (Dense)              (None, 8, 3)              27        \n",
      "=================================================================\n",
      "Total params: 99\n",
      "Trainable params: 99\n",
      "Non-trainable params: 0\n",
      "_________________________________________________________________\n"
     ]
    }
   ],
   "source": [
    "model = Sequential()\n",
    "model.add(Dense(8, activation='relu',input_shape=(8,8)))\n",
    "model.add(Dense(3, activation='softmax'))\n",
    "model.compile(optimizer=\"adagrad\",\n",
    "              loss='kullback_leibler_divergence',\n",
    "              metrics=['accuracy'])\n",
    "model.summary()"
   ]
  },
  {
   "cell_type": "code",
   "execution_count": 27,
   "metadata": {},
   "outputs": [
    {
     "ename": "ValueError",
     "evalue": "Error when checking target: expected dense_2 to have 3 dimensions, but got array with shape (1797, 1)",
     "output_type": "error",
     "traceback": [
      "\u001b[0;31m---------------------------------------------------------------------------\u001b[0m",
      "\u001b[0;31mValueError\u001b[0m                                Traceback (most recent call last)",
      "\u001b[0;32m<ipython-input-27-cc1fef7bf7a6>\u001b[0m in \u001b[0;36m<module>\u001b[0;34m\u001b[0m\n\u001b[0;32m----> 1\u001b[0;31m \u001b[0mob\u001b[0m\u001b[0;34m=\u001b[0m\u001b[0mmodel\u001b[0m\u001b[0;34m.\u001b[0m\u001b[0mfit\u001b[0m\u001b[0;34m(\u001b[0m\u001b[0mdigits\u001b[0m\u001b[0;34m.\u001b[0m\u001b[0mimages\u001b[0m\u001b[0;34m,\u001b[0m \u001b[0mdigits\u001b[0m\u001b[0;34m.\u001b[0m\u001b[0mtarget\u001b[0m\u001b[0;34m,\u001b[0m \u001b[0mepochs\u001b[0m\u001b[0;34m=\u001b[0m\u001b[0;36m100\u001b[0m\u001b[0;34m,\u001b[0m \u001b[0mbatch_size\u001b[0m\u001b[0;34m=\u001b[0m\u001b[0;36m8\u001b[0m\u001b[0;34m,\u001b[0m\u001b[0mvalidation_split\u001b[0m\u001b[0;34m=\u001b[0m\u001b[0;36m0.1\u001b[0m\u001b[0;34m)\u001b[0m\u001b[0;34m\u001b[0m\u001b[0;34m\u001b[0m\u001b[0m\n\u001b[0m",
      "\u001b[0;32m~/anaconda3/lib/python3.7/site-packages/keras/engine/training.py\u001b[0m in \u001b[0;36mfit\u001b[0;34m(self, x, y, batch_size, epochs, verbose, callbacks, validation_split, validation_data, shuffle, class_weight, sample_weight, initial_epoch, steps_per_epoch, validation_steps, validation_freq, max_queue_size, workers, use_multiprocessing, **kwargs)\u001b[0m\n\u001b[1;32m   1087\u001b[0m             \u001b[0msample_weight\u001b[0m\u001b[0;34m=\u001b[0m\u001b[0msample_weight\u001b[0m\u001b[0;34m,\u001b[0m\u001b[0;34m\u001b[0m\u001b[0;34m\u001b[0m\u001b[0m\n\u001b[1;32m   1088\u001b[0m             \u001b[0mclass_weight\u001b[0m\u001b[0;34m=\u001b[0m\u001b[0mclass_weight\u001b[0m\u001b[0;34m,\u001b[0m\u001b[0;34m\u001b[0m\u001b[0;34m\u001b[0m\u001b[0m\n\u001b[0;32m-> 1089\u001b[0;31m             batch_size=batch_size)\n\u001b[0m\u001b[1;32m   1090\u001b[0m \u001b[0;34m\u001b[0m\u001b[0m\n\u001b[1;32m   1091\u001b[0m         \u001b[0;31m# Prepare validation data.\u001b[0m\u001b[0;34m\u001b[0m\u001b[0;34m\u001b[0m\u001b[0;34m\u001b[0m\u001b[0m\n",
      "\u001b[0;32m~/anaconda3/lib/python3.7/site-packages/keras/engine/training.py\u001b[0m in \u001b[0;36m_standardize_user_data\u001b[0;34m(self, x, y, sample_weight, class_weight, check_array_lengths, batch_size)\u001b[0m\n\u001b[1;32m    793\u001b[0m                 \u001b[0mfeed_output_shapes\u001b[0m\u001b[0;34m,\u001b[0m\u001b[0;34m\u001b[0m\u001b[0;34m\u001b[0m\u001b[0m\n\u001b[1;32m    794\u001b[0m                 \u001b[0mcheck_batch_axis\u001b[0m\u001b[0;34m=\u001b[0m\u001b[0;32mFalse\u001b[0m\u001b[0;34m,\u001b[0m  \u001b[0;31m# Don't enforce the batch size.\u001b[0m\u001b[0;34m\u001b[0m\u001b[0;34m\u001b[0m\u001b[0m\n\u001b[0;32m--> 795\u001b[0;31m                 exception_prefix='target')\n\u001b[0m\u001b[1;32m    796\u001b[0m \u001b[0;34m\u001b[0m\u001b[0m\n\u001b[1;32m    797\u001b[0m             \u001b[0;31m# Generate sample-wise weight values given the `sample_weight` and\u001b[0m\u001b[0;34m\u001b[0m\u001b[0;34m\u001b[0m\u001b[0;34m\u001b[0m\u001b[0m\n",
      "\u001b[0;32m~/anaconda3/lib/python3.7/site-packages/keras/engine/training_utils.py\u001b[0m in \u001b[0;36mstandardize_input_data\u001b[0;34m(data, names, shapes, check_batch_axis, exception_prefix)\u001b[0m\n\u001b[1;32m    129\u001b[0m                         \u001b[0;34m': expected '\u001b[0m \u001b[0;34m+\u001b[0m \u001b[0mnames\u001b[0m\u001b[0;34m[\u001b[0m\u001b[0mi\u001b[0m\u001b[0;34m]\u001b[0m \u001b[0;34m+\u001b[0m \u001b[0;34m' to have '\u001b[0m \u001b[0;34m+\u001b[0m\u001b[0;34m\u001b[0m\u001b[0;34m\u001b[0m\u001b[0m\n\u001b[1;32m    130\u001b[0m                         \u001b[0mstr\u001b[0m\u001b[0;34m(\u001b[0m\u001b[0mlen\u001b[0m\u001b[0;34m(\u001b[0m\u001b[0mshape\u001b[0m\u001b[0;34m)\u001b[0m\u001b[0;34m)\u001b[0m \u001b[0;34m+\u001b[0m \u001b[0;34m' dimensions, but got array '\u001b[0m\u001b[0;34m\u001b[0m\u001b[0;34m\u001b[0m\u001b[0m\n\u001b[0;32m--> 131\u001b[0;31m                         'with shape ' + str(data_shape))\n\u001b[0m\u001b[1;32m    132\u001b[0m                 \u001b[0;32mif\u001b[0m \u001b[0;32mnot\u001b[0m \u001b[0mcheck_batch_axis\u001b[0m\u001b[0;34m:\u001b[0m\u001b[0;34m\u001b[0m\u001b[0;34m\u001b[0m\u001b[0m\n\u001b[1;32m    133\u001b[0m                     \u001b[0mdata_shape\u001b[0m \u001b[0;34m=\u001b[0m \u001b[0mdata_shape\u001b[0m\u001b[0;34m[\u001b[0m\u001b[0;36m1\u001b[0m\u001b[0;34m:\u001b[0m\u001b[0;34m]\u001b[0m\u001b[0;34m\u001b[0m\u001b[0;34m\u001b[0m\u001b[0m\n",
      "\u001b[0;31mValueError\u001b[0m: Error when checking target: expected dense_2 to have 3 dimensions, but got array with shape (1797, 1)"
     ]
    }
   ],
   "source": [
    "ob=model.fit(digits.images, digits.target, epochs=100, batch_size=8,validation_split=0.1)"
   ]
  },
  {
   "cell_type": "code",
   "execution_count": 243,
   "metadata": {},
   "outputs": [
    {
     "data": {
      "text/plain": [
       "dict_keys(['val_loss', 'val_acc', 'loss', 'acc'])"
      ]
     },
     "execution_count": 243,
     "metadata": {},
     "output_type": "execute_result"
    }
   ],
   "source": [
    "ob.history.keys()\n"
   ]
  },
  {
   "cell_type": "code",
   "execution_count": 244,
   "metadata": {},
   "outputs": [],
   "source": [
    "import matplotlib.pyplot as plt"
   ]
  },
  {
   "cell_type": "code",
   "execution_count": 258,
   "metadata": {},
   "outputs": [
    {
     "data": {
      "text/plain": [
       "[<matplotlib.lines.Line2D at 0x7fd7f9cabc18>]"
      ]
     },
     "execution_count": 258,
     "metadata": {},
     "output_type": "execute_result"
    },
    {
     "data": {
      "image/png": "[encoded data removed]",
      "text/plain": [
       "<Figure size 432x288 with 1 Axes>"
      ]
     },
     "metadata": {
      "needs_background": "light"
     },
     "output_type": "display_data"
    }
   ],
   "source": [
    "# plt.plot([x for x in range(100)],ob.history[\"loss\"])\n",
    "plt.plot([x for x in range(100)],ob.history[\"val_loss\"])"
   ]
  },
  {
   "cell_type": "code",
   "execution_count": 263,
   "metadata": {},
   "outputs": [],
   "source": [
    "scaler=np.array([1])"
   ]
  },
  {
   "cell_type": "code",
   "execution_count": 264,
   "metadata": {},
   "outputs": [
    {
     "data": {
      "text/plain": [
       "(1,)"
      ]
     },
     "execution_count": 264,
     "metadata": {},
     "output_type": "execute_result"
    }
   ],
   "source": [
    "scaler.shape"
   ]
  },
  {
   "cell_type": "code",
   "execution_count": 265,
   "metadata": {},
   "outputs": [],
   "source": [
    "scaler=np.array([[1,2]])"
   ]
  },
  {
   "cell_type": "code",
   "execution_count": 266,
   "metadata": {},
   "outputs": [
    {
     "data": {
      "text/plain": [
       "(1, 2)"
      ]
     },
     "execution_count": 266,
     "metadata": {},
     "output_type": "execute_result"
    }
   ],
   "source": [
    "scaler.shape"
   ]
  },
  {
   "cell_type": "code",
   "execution_count": 277,
   "metadata": {},
   "outputs": [],
   "source": [
    "scaler=np.array([[[[1,2,3],[1,2,3]]]])"
   ]
  },
  {
   "cell_type": "code",
   "execution_count": 278,
   "metadata": {},
   "outputs": [
    {
     "data": {
      "text/plain": [
       "(1, 1, 2, 3)"
      ]
     },
     "execution_count": 278,
     "metadata": {},
     "output_type": "execute_result"
    }
   ],
   "source": [
    "scaler.shape"
   ]
  },
  {
   "cell_type": "code",
   "execution_count": 274,
   "metadata": {},
   "outputs": [
    {
     "data": {
      "text/plain": [
       "3"
      ]
     },
     "execution_count": 274,
     "metadata": {},
     "output_type": "execute_result"
    }
   ],
   "source": [
    "scaler.ndim"
   ]
  },
  {
   "cell_type": "code",
   "execution_count": 284,
   "metadata": {},
   "outputs": [
    {
     "name": "stdout",
     "output_type": "stream",
     "text": [
      "Tensor(\"dense_115_input:0\", shape=(?, 4), dtype=float32)\n",
      "[<keras.layers.core.Dense object at 0x7fd7fc134860>, <keras.layers.core.Dense object at 0x7fd7fc134438>]\n",
      "Tensor(\"dense_116/Softmax:0\", shape=(?, 3), dtype=float32)\n"
     ]
    }
   ],
   "source": [
    "print(model.input)\n",
    "print(model.layers)\n",
    "print(model.output)\n"
   ]
  },
  {
   "cell_type": "code",
   "execution_count": 285,
   "metadata": {},
   "outputs": [
    {
     "data": {
      "text/plain": [
       "{'name': 'sequential_54',\n",
       " 'layers': [{'class_name': 'Dense',\n",
       "   'config': {'name': 'dense_115',\n",
       "    'trainable': True,\n",
       "    'batch_input_shape': (None, 4),\n",
       "    'dtype': 'float32',\n",
       "    'units': 8,\n",
       "    'activation': 'relu',\n",
       "    'use_bias': True,\n",
       "    'kernel_initializer': {'class_name': 'VarianceScaling',\n",
       "     'config': {'scale': 1.0,\n",
       "      'mode': 'fan_avg',\n",
       "      'distribution': 'uniform',\n",
       "      'seed': None}},\n",
       "    'bias_initializer': {'class_name': 'Zeros', 'config': {}},\n",
       "    'kernel_regularizer': None,\n",
       "    'bias_regularizer': None,\n",
       "    'activity_regularizer': None,\n",
       "    'kernel_constraint': None,\n",
       "    'bias_constraint': None}},\n",
       "  {'class_name': 'Dense',\n",
       "   'config': {'name': 'dense_116',\n",
       "    'trainable': True,\n",
       "    'dtype': 'float32',\n",
       "    'units': 3,\n",
       "    'activation': 'softmax',\n",
       "    'use_bias': True,\n",
       "    'kernel_initializer': {'class_name': 'VarianceScaling',\n",
       "     'config': {'scale': 1.0,\n",
       "      'mode': 'fan_avg',\n",
       "      'distribution': 'uniform',\n",
       "      'seed': None}},\n",
       "    'bias_initializer': {'class_name': 'Zeros', 'config': {}},\n",
       "    'kernel_regularizer': None,\n",
       "    'bias_regularizer': None,\n",
       "    'activity_regularizer': None,\n",
       "    'kernel_constraint': None,\n",
       "    'bias_constraint': None}}]}"
      ]
     },
     "execution_count": 285,
     "metadata": {},
     "output_type": "execute_result"
    }
   ],
   "source": [
    "model.get_config()"
   ]
  },
  {
   "cell_type": "code",
   "execution_count": 286,
   "metadata": {},
   "outputs": [
    {
     "data": {
      "text/plain": [
       "[array([[-0.53152907,  0.47258052, -0.32722643,  0.5948771 ,  0.14059539,\n",
       "          0.09584343, -0.63499063,  0.11337909],\n",
       "        [ 0.29460818, -0.0601812 ,  0.20420116,  0.5889261 ,  0.26752388,\n",
       "          0.03426738, -0.5372305 ,  0.47794977],\n",
       "        [-0.1873923 ,  0.3057105 , -0.65739846,  0.74675345,  0.5119079 ,\n",
       "         -0.1143866 , -0.31358182,  0.14618433],\n",
       "        [-0.2468524 , -0.45982084, -0.38651103, -0.3190412 , -0.47726408,\n",
       "          0.70877737, -0.23159   ,  0.08490532]], dtype=float32),\n",
       " array([ 0.        ,  0.03437625,  0.        , -0.084335  , -0.00687466,\n",
       "        -0.07576939,  0.        ,  0.08824269], dtype=float32),\n",
       " array([[ 0.6522209 ,  0.04527199, -0.7274217 ],\n",
       "        [ 0.5443608 ,  0.41604066, -0.27075306],\n",
       "        [-0.7336344 , -0.3785178 , -0.05901378],\n",
       "        [-0.29871327, -0.7480018 , -0.5560434 ],\n",
       "        [-0.5168615 ,  0.02611201,  0.61231756],\n",
       "        [-0.17054716, -0.44425067,  0.29835424],\n",
       "        [ 0.579076  ,  0.2779078 , -0.5335293 ],\n",
       "        [-0.5361086 ,  0.30341485, -0.39789453]], dtype=float32),\n",
       " array([-0.05300658,  0.09210427, -0.05009481], dtype=float32)]"
      ]
     },
     "execution_count": 286,
     "metadata": {},
     "output_type": "execute_result"
    }
   ],
   "source": [
    "model.get_weights()"
   ]
  },
  {
   "cell_type": "code",
   "execution_count": 332,
   "metadata": {},
   "outputs": [],
   "source": [
    "def kullback_leibler_divergence(y_true, y_pred):\n",
    "    y_true = K.clip(y_true, K.epsilon(), 1)\n",
    "    y_pred = K.clip(y_pred, K.epsilon(), 1)\n",
    "    return K.sum(y_true * K.log(y_true / y_pred), axis=-1)"
   ]
  },
  {
   "cell_type": "code",
   "execution_count": 331,
   "metadata": {},
   "outputs": [],
   "source": [
    "import keras.backend as K"
   ]
  },
  {
   "cell_type": "code",
   "execution_count": 11,
   "metadata": {},
   "outputs": [
    {
     "name": "stdout",
     "output_type": "stream",
     "text": [
      "Model: \"model_1\"\n",
      "_________________________________________________________________\n",
      "Layer (type)                 Output Shape              Param #   \n",
      "=================================================================\n",
      "input_1 (InputLayer)         (None, 4)                 0         \n",
      "_________________________________________________________________\n",
      "dense_1 (Dense)              (None, 8)                 40        \n",
      "_________________________________________________________________\n",
      "dense_2 (Dense)              (None, 64)                576       \n",
      "_________________________________________________________________\n",
      "dense_3 (Dense)              (None, 3)                 195       \n",
      "=================================================================\n",
      "Total params: 811\n",
      "Trainable params: 811\n",
      "Non-trainable params: 0\n",
      "_________________________________________________________________\n",
      "WARNING:tensorflow:From /home/trantorchd.com/paritosh.yadav/anaconda3/envs/deeplearning/lib/python3.6/site-packages/keras/backend/tensorflow_backend.py:422: The name tf.global_variables is deprecated. Please use tf.compat.v1.global_variables instead.\n",
      "\n",
      "Train on 120 samples, validate on 30 samples\n",
      "Epoch 1/50\n",
      "120/120 [==============================] - 0s 3ms/step - loss: 1.0287 - accuracy: 0.5833 - val_loss: 1.5130 - val_accuracy: 0.0000e+00\n",
      "Epoch 2/50\n",
      "120/120 [==============================] - 0s 137us/step - loss: 0.9313 - accuracy: 0.8083 - val_loss: 1.3971 - val_accuracy: 0.0000e+00\n",
      "Epoch 3/50\n",
      "120/120 [==============================] - 0s 150us/step - loss: 0.8638 - accuracy: 0.8250 - val_loss: 1.4591 - val_accuracy: 0.0000e+00\n",
      "Epoch 4/50\n",
      "120/120 [==============================] - 0s 166us/step - loss: 0.8156 - accuracy: 0.8333 - val_loss: 1.3875 - val_accuracy: 0.0000e+00\n",
      "Epoch 5/50\n",
      "120/120 [==============================] - 0s 132us/step - loss: 0.7689 - accuracy: 0.8333 - val_loss: 1.2460 - val_accuracy: 0.0000e+00\n",
      "Epoch 6/50\n",
      "120/120 [==============================] - 0s 154us/step - loss: 0.7272 - accuracy: 0.8333 - val_loss: 1.2074 - val_accuracy: 0.0000e+00\n",
      "Epoch 7/50\n",
      "120/120 [==============================] - 0s 175us/step - loss: 0.6860 - accuracy: 0.8333 - val_loss: 1.2792 - val_accuracy: 0.0000e+00\n",
      "Epoch 8/50\n",
      "120/120 [==============================] - 0s 163us/step - loss: 0.6492 - accuracy: 0.8333 - val_loss: 1.1455 - val_accuracy: 0.0000e+00\n",
      "Epoch 9/50\n",
      "120/120 [==============================] - 0s 157us/step - loss: 0.6165 - accuracy: 0.8333 - val_loss: 1.2539 - val_accuracy: 0.0000e+00\n",
      "Epoch 10/50\n",
      "120/120 [==============================] - 0s 146us/step - loss: 0.5878 - accuracy: 0.8333 - val_loss: 1.2699 - val_accuracy: 0.0000e+00\n",
      "Epoch 11/50\n",
      "120/120 [==============================] - 0s 139us/step - loss: 0.5585 - accuracy: 0.8333 - val_loss: 1.1441 - val_accuracy: 0.0000e+00\n",
      "Epoch 12/50\n",
      "120/120 [==============================] - 0s 140us/step - loss: 0.5294 - accuracy: 0.8333 - val_loss: 1.1733 - val_accuracy: 0.0000e+00\n",
      "Epoch 13/50\n",
      "120/120 [==============================] - 0s 156us/step - loss: 0.5069 - accuracy: 0.8333 - val_loss: 1.0366 - val_accuracy: 0.0000e+00\n",
      "Epoch 14/50\n",
      "120/120 [==============================] - 0s 160us/step - loss: 0.4872 - accuracy: 0.8333 - val_loss: 1.2044 - val_accuracy: 0.0000e+00\n",
      "Epoch 15/50\n",
      "120/120 [==============================] - 0s 165us/step - loss: 0.4672 - accuracy: 0.8333 - val_loss: 1.1103 - val_accuracy: 0.0000e+00\n",
      "Epoch 16/50\n",
      "120/120 [==============================] - 0s 152us/step - loss: 0.4503 - accuracy: 0.8333 - val_loss: 1.2330 - val_accuracy: 0.0000e+00\n",
      "Epoch 17/50\n",
      "120/120 [==============================] - 0s 132us/step - loss: 0.4352 - accuracy: 0.8333 - val_loss: 1.0020 - val_accuracy: 0.0000e+00\n",
      "Epoch 18/50\n",
      "120/120 [==============================] - 0s 155us/step - loss: 0.4253 - accuracy: 0.8333 - val_loss: 0.9062 - val_accuracy: 0.0000e+00\n",
      "Epoch 19/50\n",
      "120/120 [==============================] - 0s 148us/step - loss: 0.4108 - accuracy: 0.8417 - val_loss: 1.1046 - val_accuracy: 0.0000e+00\n",
      "Epoch 20/50\n",
      "120/120 [==============================] - 0s 141us/step - loss: 0.4030 - accuracy: 0.8333 - val_loss: 1.0604 - val_accuracy: 0.0000e+00\n",
      "Epoch 21/50\n",
      "120/120 [==============================] - 0s 138us/step - loss: 0.3983 - accuracy: 0.8333 - val_loss: 1.0312 - val_accuracy: 0.0000e+00\n",
      "Epoch 22/50\n",
      "120/120 [==============================] - 0s 140us/step - loss: 0.3852 - accuracy: 0.8333 - val_loss: 1.0688 - val_accuracy: 0.0000e+00\n",
      "Epoch 23/50\n",
      "120/120 [==============================] - 0s 160us/step - loss: 0.3702 - accuracy: 0.8333 - val_loss: 1.0812 - val_accuracy: 0.0000e+00\n",
      "Epoch 24/50\n",
      "120/120 [==============================] - 0s 171us/step - loss: 0.3626 - accuracy: 0.8333 - val_loss: 1.0137 - val_accuracy: 0.0000e+00\n",
      "Epoch 25/50\n",
      "120/120 [==============================] - 0s 155us/step - loss: 0.3550 - accuracy: 0.8333 - val_loss: 1.0015 - val_accuracy: 0.0000e+00\n",
      "Epoch 26/50\n",
      "120/120 [==============================] - 0s 170us/step - loss: 0.3493 - accuracy: 0.8417 - val_loss: 1.0529 - val_accuracy: 0.0000e+00\n",
      "Epoch 27/50\n",
      "120/120 [==============================] - 0s 142us/step - loss: 0.3524 - accuracy: 0.8417 - val_loss: 0.9292 - val_accuracy: 0.0333\n",
      "Epoch 28/50\n",
      "120/120 [==============================] - 0s 169us/step - loss: 0.3388 - accuracy: 0.8500 - val_loss: 1.1296 - val_accuracy: 0.0000e+00\n",
      "Epoch 29/50\n",
      "120/120 [==============================] - 0s 144us/step - loss: 0.3308 - accuracy: 0.8333 - val_loss: 0.8640 - val_accuracy: 0.0667\n",
      "Epoch 30/50\n",
      "120/120 [==============================] - 0s 154us/step - loss: 0.3244 - accuracy: 0.8667 - val_loss: 1.0892 - val_accuracy: 0.0000e+00\n",
      "Epoch 31/50\n",
      "120/120 [==============================] - 0s 153us/step - loss: 0.3200 - accuracy: 0.8417 - val_loss: 1.0188 - val_accuracy: 0.0333\n",
      "Epoch 32/50\n",
      "120/120 [==============================] - 0s 177us/step - loss: 0.3189 - accuracy: 0.8333 - val_loss: 0.7560 - val_accuracy: 0.2333\n",
      "Epoch 33/50\n",
      "120/120 [==============================] - 0s 144us/step - loss: 0.3077 - accuracy: 0.9083 - val_loss: 1.1535 - val_accuracy: 0.0000e+00\n",
      "Epoch 34/50\n",
      "120/120 [==============================] - 0s 146us/step - loss: 0.3032 - accuracy: 0.8417 - val_loss: 0.9353 - val_accuracy: 0.0333\n",
      "Epoch 35/50\n",
      "120/120 [==============================] - 0s 159us/step - loss: 0.2970 - accuracy: 0.8583 - val_loss: 0.9174 - val_accuracy: 0.0667\n",
      "Epoch 36/50\n",
      "120/120 [==============================] - 0s 139us/step - loss: 0.2858 - accuracy: 0.8750 - val_loss: 1.0921 - val_accuracy: 0.0333\n",
      "Epoch 37/50\n",
      "120/120 [==============================] - 0s 127us/step - loss: 0.2837 - accuracy: 0.8500 - val_loss: 0.7558 - val_accuracy: 0.2667\n",
      "Epoch 38/50\n",
      "120/120 [==============================] - 0s 128us/step - loss: 0.2727 - accuracy: 0.9167 - val_loss: 0.9373 - val_accuracy: 0.0667\n",
      "Epoch 39/50\n",
      "120/120 [==============================] - 0s 158us/step - loss: 0.2636 - accuracy: 0.9000 - val_loss: 1.0115 - val_accuracy: 0.0333\n",
      "Epoch 40/50\n",
      "120/120 [==============================] - 0s 147us/step - loss: 0.2629 - accuracy: 0.9000 - val_loss: 1.0986 - val_accuracy: 0.0333\n",
      "Epoch 41/50\n",
      "120/120 [==============================] - 0s 163us/step - loss: 0.2539 - accuracy: 0.8417 - val_loss: 0.8592 - val_accuracy: 0.2000\n",
      "Epoch 42/50\n",
      "120/120 [==============================] - 0s 155us/step - loss: 0.2448 - accuracy: 0.8667 - val_loss: 0.6881 - val_accuracy: 0.4333\n",
      "Epoch 43/50\n",
      "120/120 [==============================] - 0s 320us/step - loss: 0.2418 - accuracy: 0.9167 - val_loss: 0.7321 - val_accuracy: 0.4000\n",
      "Epoch 44/50\n",
      "120/120 [==============================] - 0s 96us/step - loss: 0.2329 - accuracy: 0.9583 - val_loss: 0.9917 - val_accuracy: 0.1000\n",
      "Epoch 45/50\n",
      "120/120 [==============================] - 0s 113us/step - loss: 0.2268 - accuracy: 0.9000 - val_loss: 0.6110 - val_accuracy: 0.6333\n",
      "Epoch 46/50\n",
      "120/120 [==============================] - 0s 122us/step - loss: 0.2273 - accuracy: 0.9500 - val_loss: 0.7359 - val_accuracy: 0.4000\n",
      "Epoch 47/50\n",
      "120/120 [==============================] - 0s 206us/step - loss: 0.2161 - accuracy: 0.9500 - val_loss: 0.6858 - val_accuracy: 0.5000\n",
      "Epoch 48/50\n",
      "120/120 [==============================] - 0s 166us/step - loss: 0.2227 - accuracy: 0.9333 - val_loss: 0.6484 - val_accuracy: 0.5333\n",
      "Epoch 49/50\n",
      "120/120 [==============================] - 0s 135us/step - loss: 0.2106 - accuracy: 0.9583 - val_loss: 0.6800 - val_accuracy: 0.5000\n",
      "Epoch 50/50\n",
      "120/120 [==============================] - 0s 139us/step - loss: 0.2089 - accuracy: 0.9250 - val_loss: 0.6878 - val_accuracy: 0.5000\n"
     ]
    },
    {
     "data": {
      "text/plain": [
       "<keras.callbacks.callbacks.History at 0x7f1b6b1dc470>"
      ]
     },
     "execution_count": 11,
     "metadata": {},
     "output_type": "execute_result"
    }
   ],
   "source": [
    "from keras.layers import Input, Dense\n",
    "from keras.models import Model\n",
    "\n",
    "# This returns a tensor\n",
    "inputs = Input(shape=(4,))\n",
    "\n",
    "# a layer instance is callable on a tensor, and returns a tensor\n",
    "output_1 = Dense(8, activation='relu')(inputs)\n",
    "output_2 = Dense(64, activation='relu')(output_1)\n",
    "predictions = Dense(3, activation='softmax')(output_2)\n",
    "\n",
    "# This creates a model that includes\n",
    "# the Input layer and three Dense layers\n",
    "model = Model(inputs=inputs, outputs=predictions)\n",
    "model.compile(optimizer='rmsprop',\n",
    "              loss='categorical_crossentropy',\n",
    "              metrics=['accuracy'])\n",
    "model.summary()\n",
    "model.fit(X, y,epochs=50,validation_split=0.2)  # starts training"
   ]
  },
  {
   "cell_type": "code",
   "execution_count": null,
   "metadata": {},
   "outputs": [],
   "source": []
  }
 ],
 "metadata": {
  "kernelspec": {
   "display_name": "Python 3",
   "language": "python",
   "name": "python3"
  },
  "language_info": {
   "codemirror_mode": {
    "name": "ipython",
    "version": 3
   },
   "file_extension": ".py",
   "mimetype": "text/x-python",
   "name": "python",
   "nbconvert_exporter": "python",
   "pygments_lexer": "ipython3",
   "version": "3.6.9"
  }
 },
 "nbformat": 4,
 "nbformat_minor": 4
}
